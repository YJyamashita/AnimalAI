{
 "cells": [
  {
   "cell_type": "code",
   "execution_count": 1,
   "metadata": {},
   "outputs": [
    {
     "name": "stderr",
     "output_type": "stream",
     "text": [
      "/opt/anaconda3/lib/python3.8/site-packages/numpy/core/_asarray.py:136: VisibleDeprecationWarning: Creating an ndarray from ragged nested sequences (which is a list-or-tuple of lists-or-tuples-or ndarrays with different lengths or shapes) is deprecated. If you meant to do this, you must specify 'dtype=object' when creating the ndarray\n",
      "  return array(a, dtype, copy=False, order=order, subok=True)\n"
     ]
    }
   ],
   "source": [
    "from PIL import Image\n",
    "import os, glob\n",
    "import numpy as np\n",
    "from sklearn import model_selection\n",
    "\n",
    "classes = [\"monkey\", \"boar\", \"crow\"]\n",
    "num_classes = len(classes)\n",
    "image_size = 50\n",
    "\n",
    "# 画像の読み込み\n",
    "\n",
    "X = []\n",
    "Y = []\n",
    "for index, classlabel in enumerate(classes):\n",
    "\tphotos_dir = \"./\" + classlabel\n",
    "\tfiles = glob.glob(photos_dir + \"/*.jpg\")\n",
    "\tfor i, file in enumerate(files):\n",
    "\t\tif i >= 200: break\n",
    "\t\timage = Image.open(file)\n",
    "\t\timage = image.convert(\"RGB\")\n",
    "\t\timage = image.resize((image_size, image_size))\n",
    "\t\tdata = np.asarray(image)\n",
    "\t\tX.append(data)\n",
    "\t\tY.append(index)\n",
    "\n",
    "X = np.array(X)\n",
    "Y = np.array(Y)\n",
    "\n",
    "X_train, X_test, y_train, y_test = model_selection.train_test_split(X, Y)\n",
    "xy = (X_train, X_test, y_train, y_test)\n",
    "np.save(\"./animal.npy\", xy)"
   ]
  },
  {
   "cell_type": "code",
   "execution_count": 2,
   "metadata": {},
   "outputs": [
    {
     "data": {
      "text/plain": [
       "450"
      ]
     },
     "execution_count": 2,
     "metadata": {},
     "output_type": "execute_result"
    }
   ],
   "source": [
    "len(X_train)"
   ]
  },
  {
   "cell_type": "code",
   "execution_count": 4,
   "metadata": {},
   "outputs": [
    {
     "data": {
      "text/plain": [
       "150"
      ]
     },
     "execution_count": 4,
     "metadata": {},
     "output_type": "execute_result"
    }
   ],
   "source": [
    "len(X_test)"
   ]
  },
  {
   "cell_type": "code",
   "execution_count": 5,
   "metadata": {},
   "outputs": [
    {
     "data": {
      "text/plain": [
       "450"
      ]
     },
     "execution_count": 5,
     "metadata": {},
     "output_type": "execute_result"
    }
   ],
   "source": [
    "len(y_train)"
   ]
  },
  {
   "cell_type": "code",
   "execution_count": 6,
   "metadata": {},
   "outputs": [
    {
     "data": {
      "text/plain": [
       "150"
      ]
     },
     "execution_count": 6,
     "metadata": {},
     "output_type": "execute_result"
    }
   ],
   "source": [
    "len(y_test)"
   ]
  },
  {
   "cell_type": "code",
   "execution_count": 7,
   "metadata": {},
   "outputs": [
    {
     "data": {
      "text/plain": [
       "array([[[ 21,  38,  45],\n",
       "        [ 27,  45,  54],\n",
       "        [ 41,  55,  61],\n",
       "        ...,\n",
       "        [123, 118,  94],\n",
       "        [ 97, 110,  82],\n",
       "        [ 96, 110,  85]],\n",
       "\n",
       "       [[ 54,  69,  67],\n",
       "        [ 34,  52,  53],\n",
       "        [ 60,  75,  76],\n",
       "        ...,\n",
       "        [ 87, 119,  77],\n",
       "        [ 76,  94,  70],\n",
       "        [ 79,  96,  74]],\n",
       "\n",
       "       [[ 84,  96,  90],\n",
       "        [ 48,  64,  64],\n",
       "        [ 48,  62,  65],\n",
       "        ...,\n",
       "        [ 94, 109,  79],\n",
       "        [ 61,  74,  59],\n",
       "        [ 47,  58,  47]],\n",
       "\n",
       "       ...,\n",
       "\n",
       "       [[104,  82,  68],\n",
       "        [102,  77,  60],\n",
       "        [115,  83,  56],\n",
       "        ...,\n",
       "        [ 72,  36,  10],\n",
       "        [100,  52,  11],\n",
       "        [121,  73,  13]],\n",
       "\n",
       "       [[103,  78,  54],\n",
       "        [101,  75,  50],\n",
       "        [ 99,  69,  39],\n",
       "        ...,\n",
       "        [116,  67,  14],\n",
       "        [115,  68,  15],\n",
       "        [ 93,  65,  25]],\n",
       "\n",
       "       [[108,  81,  63],\n",
       "        [105,  78,  59],\n",
       "        [107,  76,  53],\n",
       "        ...,\n",
       "        [112,  63,  15],\n",
       "        [ 34,  47,  43],\n",
       "        [ 20,  50,  59]]], dtype=uint8)"
      ]
     },
     "execution_count": 7,
     "metadata": {},
     "output_type": "execute_result"
    }
   ],
   "source": [
    "X_train[100]"
   ]
  },
  {
   "cell_type": "code",
   "execution_count": 8,
   "metadata": {},
   "outputs": [
    {
     "data": {
      "text/plain": [
       "0"
      ]
     },
     "execution_count": 8,
     "metadata": {},
     "output_type": "execute_result"
    }
   ],
   "source": [
    "y_train[100]"
   ]
  },
  {
   "cell_type": "code",
   "execution_count": null,
   "metadata": {},
   "outputs": [],
   "source": []
  }
 ],
 "metadata": {
  "kernelspec": {
   "display_name": "Python 3",
   "language": "python",
   "name": "python3"
  },
  "language_info": {
   "codemirror_mode": {
    "name": "ipython",
    "version": 3
   },
   "file_extension": ".py",
   "mimetype": "text/x-python",
   "name": "python",
   "nbconvert_exporter": "python",
   "pygments_lexer": "ipython3",
   "version": "3.8.2"
  }
 },
 "nbformat": 4,
 "nbformat_minor": 4
}
